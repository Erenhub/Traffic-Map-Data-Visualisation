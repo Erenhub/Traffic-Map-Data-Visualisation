{
 "cells": [
  {
   "cell_type": "code",
   "execution_count": 1,
   "metadata": {},
   "outputs": [],
   "source": [
    "import pandas as pd\n",
    "hi= pd.read_csv(\"BT_data_sample.csv\")"
   ]
  },
  {
   "cell_type": "code",
   "execution_count": 2,
   "metadata": {},
   "outputs": [
    {
     "data": {
      "text/html": [
       "<div>\n",
       "<style scoped>\n",
       "    .dataframe tbody tr th:only-of-type {\n",
       "        vertical-align: middle;\n",
       "    }\n",
       "\n",
       "    .dataframe tbody tr th {\n",
       "        vertical-align: top;\n",
       "    }\n",
       "\n",
       "    .dataframe thead th {\n",
       "        text-align: right;\n",
       "    }\n",
       "</style>\n",
       "<table border=\"1\" class=\"dataframe\">\n",
       "  <thead>\n",
       "    <tr style=\"text-align: right;\">\n",
       "      <th></th>\n",
       "      <th>deviceid</th>\n",
       "      <th>entered</th>\n",
       "      <th>duration</th>\n",
       "      <th>areaNum</th>\n",
       "      <th>latitude</th>\n",
       "      <th>longitude</th>\n",
       "      <th>owner</th>\n",
       "    </tr>\n",
       "  </thead>\n",
       "  <tbody>\n",
       "    <tr>\n",
       "      <td>0</td>\n",
       "      <td>4597058</td>\n",
       "      <td>2015-07-01 00:00:00</td>\n",
       "      <td>1</td>\n",
       "      <td>B0164</td>\n",
       "      <td>-27.425818</td>\n",
       "      <td>153.014288</td>\n",
       "      <td>BCC</td>\n",
       "    </tr>\n",
       "    <tr>\n",
       "      <td>1</td>\n",
       "      <td>951965</td>\n",
       "      <td>2015-07-01 00:00:00</td>\n",
       "      <td>1</td>\n",
       "      <td>B0118</td>\n",
       "      <td>-27.426477</td>\n",
       "      <td>153.050572</td>\n",
       "      <td>BCC</td>\n",
       "    </tr>\n",
       "    <tr>\n",
       "      <td>2</td>\n",
       "      <td>1209088</td>\n",
       "      <td>2015-07-01 00:00:00</td>\n",
       "      <td>1</td>\n",
       "      <td>B0861</td>\n",
       "      <td>-27.453084</td>\n",
       "      <td>153.156286</td>\n",
       "      <td>BCC</td>\n",
       "    </tr>\n",
       "    <tr>\n",
       "      <td>3</td>\n",
       "      <td>5374183</td>\n",
       "      <td>2015-07-01 00:00:00</td>\n",
       "      <td>1</td>\n",
       "      <td>B0354</td>\n",
       "      <td>-27.461499</td>\n",
       "      <td>153.038919</td>\n",
       "      <td>BCC</td>\n",
       "    </tr>\n",
       "    <tr>\n",
       "      <td>4</td>\n",
       "      <td>4110750</td>\n",
       "      <td>2015-07-01 00:00:00</td>\n",
       "      <td>1</td>\n",
       "      <td>B0310</td>\n",
       "      <td>-27.436896</td>\n",
       "      <td>153.006894</td>\n",
       "      <td>BCC</td>\n",
       "    </tr>\n",
       "  </tbody>\n",
       "</table>\n",
       "</div>"
      ],
      "text/plain": [
       "   deviceid              entered  duration areaNum   latitude   longitude  \\\n",
       "0   4597058  2015-07-01 00:00:00         1   B0164 -27.425818  153.014288   \n",
       "1    951965  2015-07-01 00:00:00         1   B0118 -27.426477  153.050572   \n",
       "2   1209088  2015-07-01 00:00:00         1   B0861 -27.453084  153.156286   \n",
       "3   5374183  2015-07-01 00:00:00         1   B0354 -27.461499  153.038919   \n",
       "4   4110750  2015-07-01 00:00:00         1   B0310 -27.436896  153.006894   \n",
       "\n",
       "  owner  \n",
       "0   BCC  \n",
       "1   BCC  \n",
       "2   BCC  \n",
       "3   BCC  \n",
       "4   BCC  "
      ]
     },
     "execution_count": 2,
     "metadata": {},
     "output_type": "execute_result"
    }
   ],
   "source": [
    "hi.head()"
   ]
  },
  {
   "cell_type": "code",
   "execution_count": 3,
   "metadata": {},
   "outputs": [],
   "source": [
    "\n",
    "from ipywidgets import HTML\n",
    "from ipyleaflet import Map, basemaps, basemap_to_tiles, CircleMarker, Icon, Popup, Heatmap"
   ]
  },
  {
   "cell_type": "code",
   "execution_count": 4,
   "metadata": {},
   "outputs": [
    {
     "data": {
      "application/vnd.jupyter.widget-view+json": {
       "model_id": "439651fcf9fc4e3f9e27bf95756d9843",
       "version_major": 2,
       "version_minor": 0
      },
      "text/plain": [
       "Map(center=[-27.4689682, 153.0234991], controls=(ZoomControl(options=['position', 'zoom_in_text', 'zoom_in_tit…"
      ]
     },
     "metadata": {},
     "output_type": "display_data"
    }
   ],
   "source": [
    "center=(-27.4689682,153.0234991)\n",
    "\n",
    "m = Map(\n",
    "    center=center,\n",
    "    zoom=12\n",
    ")\n",
    "\n",
    "\n",
    "lat = -27.425818\n",
    "long = 153.014288\n",
    "    \n",
    "n = \"x[1].STOP_NAME\"\n",
    "    \n",
    "message = HTML()\n",
    "    \n",
    "message.value = n\n",
    "    \n",
    "circle_marker = CircleMarker(location=(lat, long), draggable=False)\n",
    "circle_marker.radius = 36\n",
    "circle_marker.stroke = False\n",
    "circle_marker.color = '#000951'\n",
    "circle_marker.opacity = 0.7\n",
    "circle_marker.fill_color = '#000951'\n",
    "circle_marker.fill_opacity = 0.7\n",
    "m.add_layer(circle_marker);\n",
    "    \n",
    "circle_marker.popup = message\n",
    "\n",
    "m"
   ]
  },
  {
   "cell_type": "code",
   "execution_count": null,
   "metadata": {},
   "outputs": [],
   "source": []
  },
  {
   "cell_type": "markdown",
   "metadata": {},
   "source": [
    "m"
   ]
  },
  {
   "cell_type": "code",
   "execution_count": 5,
   "metadata": {},
   "outputs": [
    {
     "data": {
      "application/vnd.jupyter.widget-view+json": {
       "model_id": "439651fcf9fc4e3f9e27bf95756d9843",
       "version_major": 2,
       "version_minor": 0
      },
      "text/plain": [
       "Map(bottom=607751.0, center=[-27.4689682, 153.0234991], controls=(ZoomControl(options=['position', 'zoom_in_te…"
      ]
     },
     "metadata": {},
     "output_type": "display_data"
    }
   ],
   "source": [
    "\n",
    "# Colors\n",
    "c_dict = {\n",
    "        'NAVIGO': '#2F80ED', #Turquoise stroke for NAVIGO\n",
    "        'IMAGINE R' : '#EA3546' #Red stroke for IMAGINE R\n",
    "    }\n",
    "\n",
    "# Markers\n",
    "\n",
    "#lat = x[1].LAT\n",
    "#long = x[1].LONG\n",
    "    \n",
    "nb_checkins = \"x[1].NB_CHECKINS\"\n",
    "    \n",
    "r = 22\n",
    "    \n",
    "n = \"x[1].STOP_NAME\"\n",
    "    \n",
    "        \n",
    "max_tt = \"x[1].MAX_TICKET_TYPE\"\n",
    "    \n",
    "c = c_dict.get(max_tt, '#FDE74C') #Yellow stroke for other tickets\n",
    "    \n",
    "message = HTML()\n",
    "    \n",
    "message.value = n\n",
    "    \n",
    "circle_marker = CircleMarker(location=(lat, long), draggable=False)\n",
    "circle_marker.radius = 3\n",
    "circle_marker.stroke = True\n",
    "circle_marker.color = c\n",
    "circle_marker.opacity = 0.5\n",
    "circle_marker.weight = max(r,5)\n",
    "circle_marker.fill_color = '#000951'\n",
    "circle_marker.fill_opacity = 1\n",
    "m.add_layer(circle_marker);\n",
    "    \n",
    "circle_marker.popup = message\n",
    "    \n",
    "# TileLayer    \n",
    "#positron_layer = basemap_to_tiles(basemaps.CartoDB.Positron)\n",
    "#m.add_layer(positron_layer)  \n",
    "    \n",
    "m"
   ]
  },
  {
   "cell_type": "code",
   "execution_count": null,
   "metadata": {},
   "outputs": [],
   "source": []
  },
  {
   "cell_type": "code",
   "execution_count": null,
   "metadata": {},
   "outputs": [],
   "source": []
  },
  {
   "cell_type": "code",
   "execution_count": 6,
   "metadata": {},
   "outputs": [
    {
     "data": {
      "application/vnd.jupyter.widget-view+json": {
       "model_id": "9c7d389995aa49ab9412a7dcad50b491",
       "version_major": 2,
       "version_minor": 0
      },
      "text/plain": [
       "Map(center=[-27.4689682, 153.0234991], controls=(ZoomControl(options=['position', 'zoom_in_text', 'zoom_in_tit…"
      ]
     },
     "metadata": {},
     "output_type": "display_data"
    }
   ],
   "source": [
    "#locations = []\n",
    "m2 = Map(\n",
    "    center=center,\n",
    "    zoom=12\n",
    ")\n",
    "\n",
    "\n",
    "locations = []\n",
    "loc = [lat, long, 0.7]\n",
    "locations.append(loc)\n",
    "\n",
    "heatmap = Heatmap(\n",
    "locations=locations,\n",
    "radius = 40,\n",
    "blur = 15,\n",
    "max = 0.005\n",
    ")\n",
    "\n",
    "m2.add_layer(heatmap);\n",
    "dark_matter_layer = basemap_to_tiles(basemaps.CartoDB.DarkMatter)\n",
    "m2.add_layer(dark_matter_layer) \n",
    "\n",
    "m2"
   ]
  },
  {
   "cell_type": "code",
   "execution_count": null,
   "metadata": {},
   "outputs": [],
   "source": []
  }
 ],
 "metadata": {
  "kernelspec": {
   "display_name": "Python 3",
   "language": "python",
   "name": "python3"
  },
  "language_info": {
   "codemirror_mode": {
    "name": "ipython",
    "version": 3
   },
   "file_extension": ".py",
   "mimetype": "text/x-python",
   "name": "python",
   "nbconvert_exporter": "python",
   "pygments_lexer": "ipython3",
   "version": "3.7.4"
  }
 },
 "nbformat": 4,
 "nbformat_minor": 2
}
